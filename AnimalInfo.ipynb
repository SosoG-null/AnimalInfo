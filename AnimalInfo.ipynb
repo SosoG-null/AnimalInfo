{
 "cells": [
  {
   "cell_type": "code",
   "execution_count": 1,
   "id": "221a1628",
   "metadata": {},
   "outputs": [
    {
     "data": {
      "application/vnd.jupyter.widget-view+json": {
       "model_id": "edac37765b9f4c598954a7459910cf95",
       "version_major": 2,
       "version_minor": 0
      },
      "text/plain": [
       "Text(value='', placeholder='Enter the name of an animal')"
      ]
     },
     "metadata": {},
     "output_type": "display_data"
    },
    {
     "data": {
      "application/vnd.jupyter.widget-view+json": {
       "model_id": "eb29f744bc394264b51778cecaf9ff2f",
       "version_major": 2,
       "version_minor": 0
      },
      "text/plain": [
       "Button(description='Search', style=ButtonStyle())"
      ]
     },
     "metadata": {},
     "output_type": "display_data"
    },
    {
     "data": {
      "application/vnd.jupyter.widget-view+json": {
       "model_id": "5752a02808224e8ca873c9bb235fcec1",
       "version_major": 2,
       "version_minor": 0
      },
      "text/plain": [
       "Textarea(value='', disabled=True)"
      ]
     },
     "metadata": {},
     "output_type": "display_data"
    },
    {
     "data": {
      "application/vnd.jupyter.widget-view+json": {
       "model_id": "87decb6ffb1a44599e1fcb1625d77bbc",
       "version_major": 2,
       "version_minor": 0
      },
      "text/plain": [
       "Output()"
      ]
     },
     "metadata": {},
     "output_type": "display_data"
    }
   ],
   "source": [
    "import ipywidgets as widgets\n",
    "from IPython.display import display, Image\n",
    "import requests\n",
    "from bs4 import BeautifulSoup\n",
    "from IPython.display import Markdown\n",
    "\n",
    "\n",
    "# Function to get the binomial name for an animal from Wikipedia or ITIS\n",
    "def get_binomial_name(animal_name):\n",
    "    # Try to get the binomial name from Wikipedia\n",
    "    base_url_wiki = \"https://en.wikipedia.org/wiki/\"\n",
    "    response_wiki = requests.get(base_url_wiki + animal_name)\n",
    "    if response_wiki.status_code == 200:\n",
    "        soup_wiki = BeautifulSoup(response_wiki.content, \"html.parser\")\n",
    "        binomial_name_element_wiki = soup_wiki.find(\"span\", class_=\"binomial\")\n",
    "        if binomial_name_element_wiki:\n",
    "            binomial_name_wiki = binomial_name_element_wiki.text.strip()\n",
    "            return binomial_name_wiki\n",
    "\n",
    "    # If not found on Wikipedia, try to get it from ITIS\n",
    "    base_url_itis = f\"https://www.itis.gov/servlet/SingleRpt/SingleRpt?search_topic=TSN&search_value={animal_name}\"\n",
    "    response_itis = requests.get(base_url_itis)\n",
    "    if response_itis.status_code == 200:\n",
    "        soup_itis = BeautifulSoup(response_itis.content, \"html.parser\")\n",
    "        name_element_itis = soup_itis.find(\"td\", attrs={\"class\": \"contentTaxonName\"})\n",
    "        if name_element_itis:\n",
    "            binomial_name_itis = name_element_itis.find(\"em\")\n",
    "            if binomial_name_itis:\n",
    "                return binomial_name_itis.text.strip()\n",
    "\n",
    "    return \"Not Available\"\n",
    "\n",
    "# Function to get the conservation status from the Wikipedia page\n",
    "def get_conservation_status(soup):\n",
    "    # Find the infobox table on the page\n",
    "    infobox = soup.find(\"table\", class_=\"infobox\")\n",
    "\n",
    "    if infobox:\n",
    "        # Find all table rows in the infobox\n",
    "        rows = infobox.find_all(\"tr\")\n",
    "\n",
    "        for row in rows:\n",
    "            # Check if the row contains the term \"Conservation status\"\n",
    "            if \"Conservation status\" in row.get_text():\n",
    "                # Extract the text from the row\n",
    "                row_text = row.get_text().strip()\n",
    "\n",
    "                # Check if the text contains parentheses (some conservation statuses are in parentheses)\n",
    "                if \"(\" in row_text and \")\" in row_text:\n",
    "                    # Extract the text inside parentheses as the conservation status\n",
    "                    conservation_status = row_text[row_text.index(\"(\") + 1:row_text.index(\")\")]\n",
    "                else:\n",
    "                    # If no parentheses, use the entire row text as the conservation status\n",
    "                    conservation_status = row_text\n",
    "\n",
    "                return conservation_status\n",
    "\n",
    "    return \"Not Available\"\n",
    "\n",
    "\n",
    "# Function to get information about an animal from Wikipedia\n",
    "def get_animal_info(animal_name):\n",
    "    base_url = \"https://en.wikipedia.org/wiki/\"\n",
    "    response = requests.get(base_url + animal_name)\n",
    "    if response.status_code == 200:\n",
    "        soup = BeautifulSoup(response.content, \"html.parser\")\n",
    "        common_name_element = soup.find(\"h1\", class_=\"firstHeading\")\n",
    "        if common_name_element:\n",
    "            common_name = common_name_element.text.strip()\n",
    "            # Get the binomial name for the animal\n",
    "            binomial_name = get_binomial_name(animal_name)\n",
    "            # Get the conservation status from the Wikipedia infobox table\n",
    "            conservation_status = get_conservation_status(soup)\n",
    "\n",
    "            return {\n",
    "                \"Common Name\": common_name,\n",
    "                \"Scientific Name\": binomial_name,\n",
    "                \"Conservation Status\": conservation_status\n",
    "            }\n",
    "        else:\n",
    "            return {\"error\": \"Animal not found on Wikipedia.\"}\n",
    "    else:\n",
    "        return {\"error\": \"Failed to fetch data from Wikipedia.\"}\n",
    "\n",
    "# Function to get the image URL for the animal from Wikipedia\n",
    "def get_animal_image_url(animal_name):\n",
    "    base_url = \"https://en.wikipedia.org/api/rest_v1/page/summary/\"\n",
    "    url = f\"{base_url}{animal_name}\"\n",
    "    response = requests.get(url)\n",
    "    data = response.json()\n",
    "    if \"thumbnail\" in data:\n",
    "        # Extract the image URL\n",
    "        image_url = data[\"thumbnail\"][\"source\"]\n",
    "        return image_url\n",
    "    else:\n",
    "        return None\n",
    "\n",
    "# Function to display the animal information and image\n",
    "def search_animal_info(btn):\n",
    "    animal_name = text_input.value.strip()\n",
    "    animal_info = get_animal_info(animal_name)\n",
    "\n",
    "    if \"error\" in animal_info:\n",
    "        output_text.value = animal_info[\"error\"]\n",
    "        img_widget.clear_output()\n",
    "    else:\n",
    "        output_text.value = \"Information for \" + animal_name\n",
    "        for key, value in animal_info.items():\n",
    "            output_text.value += f\"\\n{key}: {value}\"\n",
    "\n",
    "        image_url = get_animal_image_url(animal_name)\n",
    "        if image_url is not None:\n",
    "            with img_widget:\n",
    "                img_widget.clear_output(wait=True)\n",
    "                img = Image(url=image_url)\n",
    "                display(img)\n",
    "        else:\n",
    "            img_widget.clear_output()\n",
    "\n",
    "            \n",
    "# Function to generate the link for adoption based on the animal name\n",
    "def get_adoption_link(animal_name):\n",
    "    # Check if the animal name starts with a consonant or a vowel\n",
    "    first_letter = animal_name[0].lower()\n",
    "    if first_letter in ['a', 'e', 'i', 'o', 'u']:\n",
    "        link_url = f\"https://support.wwf.org.uk/adopt-an-{animal_name.lower()}\"\n",
    "    else:\n",
    "        link_url = f\"https://support.wwf.org.uk/adopt-a-{animal_name.lower()}\"\n",
    "    return link_url\n",
    "\n",
    "# Function to display the animal information and image, along with the clickable link for adoption\n",
    "def get_adoption_info(btn):\n",
    "    animal_name = text_input.value.strip()\n",
    "    animal_info = get_animal_info(animal_name)\n",
    "\n",
    "    if \"error\" in animal_info:\n",
    "        output_text.value = animal_info[\"error\"]\n",
    "        img_widget.clear_output()\n",
    "    else:\n",
    "        output_text.value = \"Information for \" + animal_name\n",
    "        for key, value in animal_info.items():\n",
    "            output_text.value += f\"\\n{key}: {value}\"\n",
    "\n",
    "        # Add the clickable link to the WWF website for adopting the animal\n",
    "        link_url = get_adoption_link(animal_name)\n",
    "        adopt_link = f\"[Adopt Now]({link_url})\"\n",
    "        display(Markdown(adopt_link))\n",
    "\n",
    "        image_url = get_animal_image_url(animal_name)\n",
    "        if image_url is not None:\n",
    "            with img_widget:\n",
    "                img_widget.clear_output(wait=True)\n",
    "                img = Image(url=image_url)\n",
    "                display(img)\n",
    "        else:\n",
    "            img_widget.clear_output()\n",
    "            \n",
    "            \n",
    "            \n",
    "# Create widgets\n",
    "text_input = widgets.Text(placeholder=\"Enter the name of an animal\")\n",
    "search_button = widgets.Button(description=\"Search\")\n",
    "search_button.on_click(get_adoption_info)\n",
    "output_text = widgets.Textarea(disabled=True)\n",
    "img_widget = widgets.Output()\n",
    "\n",
    "# Display widgets\n",
    "display(text_input, search_button, output_text, img_widget)\n"
   ]
  },
  {
   "cell_type": "code",
   "execution_count": null,
   "id": "1bd22aab",
   "metadata": {},
   "outputs": [],
   "source": []
  },
  {
   "cell_type": "code",
   "execution_count": null,
   "id": "ee705411",
   "metadata": {},
   "outputs": [],
   "source": []
  }
 ],
 "metadata": {
  "kernelspec": {
   "display_name": "Python 3 (ipykernel)",
   "language": "python",
   "name": "python3"
  },
  "language_info": {
   "codemirror_mode": {
    "name": "ipython",
    "version": 3
   },
   "file_extension": ".py",
   "mimetype": "text/x-python",
   "name": "python",
   "nbconvert_exporter": "python",
   "pygments_lexer": "ipython3",
   "version": "3.11.3"
  }
 },
 "nbformat": 4,
 "nbformat_minor": 5
}
